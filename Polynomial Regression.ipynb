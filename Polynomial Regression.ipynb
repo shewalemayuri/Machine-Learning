{
 "cells": [
  {
   "cell_type": "code",
   "execution_count": 1,
   "id": "463eea6b",
   "metadata": {},
   "outputs": [],
   "source": [
    "import pandas as pd\n",
    "import numpy as np\n",
    "import matplotlib.pyplot as plt"
   ]
  },
  {
   "cell_type": "code",
   "execution_count": 2,
   "id": "7c8ed7c6",
   "metadata": {},
   "outputs": [],
   "source": [
    "x = [1,2,3,4,5,6,7,8,9,10,11,12,13,14,15,16,17]\n",
    "y = [100,90,80,60,60,55,60,65,70,70,75,76,78,90,99,99,100]"
   ]
  },
  {
   "cell_type": "code",
   "execution_count": 3,
   "id": "5f9f223e",
   "metadata": {},
   "outputs": [
    {
     "data": {
      "image/png": "[encoded data removed]",
      "text/plain": [
       "<Figure size 432x288 with 1 Axes>"
      ]
     },
     "metadata": {
      "needs_background": "light"
     },
     "output_type": "display_data"
    }
   ],
   "source": [
    "plt.scatter(x,y)\n",
    "plt.show()"
   ]
  },
  {
   "cell_type": "code",
   "execution_count": 5,
   "id": "30c11095",
   "metadata": {},
   "outputs": [],
   "source": [
    "df1 = pd.Series(x,name=\"Time\")\n",
    "df2 = pd.Series(y,name=\"Speed\")"
   ]
  },
  {
   "cell_type": "code",
   "execution_count": 9,
   "id": "28962b44",
   "metadata": {},
   "outputs": [
    {
     "data": {
      "text/html": [
       "<div>\n",
       "<style scoped>\n",
       "    .dataframe tbody tr th:only-of-type {\n",
       "        vertical-align: middle;\n",
       "    }\n",
       "\n",
       "    .dataframe tbody tr th {\n",
       "        vertical-align: top;\n",
       "    }\n",
       "\n",
       "    .dataframe thead th {\n",
       "        text-align: right;\n",
       "    }\n",
       "</style>\n",
       "<table border=\"1\" class=\"dataframe\">\n",
       "  <thead>\n",
       "    <tr style=\"text-align: right;\">\n",
       "      <th></th>\n",
       "      <th>Time</th>\n",
       "      <th>Speed</th>\n",
       "    </tr>\n",
       "  </thead>\n",
       "  <tbody>\n",
       "    <tr>\n",
       "      <th>0</th>\n",
       "      <td>1</td>\n",
       "      <td>100</td>\n",
       "    </tr>\n",
       "    <tr>\n",
       "      <th>1</th>\n",
       "      <td>2</td>\n",
       "      <td>90</td>\n",
       "    </tr>\n",
       "    <tr>\n",
       "      <th>2</th>\n",
       "      <td>3</td>\n",
       "      <td>80</td>\n",
       "    </tr>\n",
       "    <tr>\n",
       "      <th>3</th>\n",
       "      <td>4</td>\n",
       "      <td>60</td>\n",
       "    </tr>\n",
       "    <tr>\n",
       "      <th>4</th>\n",
       "      <td>5</td>\n",
       "      <td>60</td>\n",
       "    </tr>\n",
       "    <tr>\n",
       "      <th>5</th>\n",
       "      <td>6</td>\n",
       "      <td>55</td>\n",
       "    </tr>\n",
       "  </tbody>\n",
       "</table>\n",
       "</div>"
      ],
      "text/plain": [
       "   Time  Speed\n",
       "0     1    100\n",
       "1     2     90\n",
       "2     3     80\n",
       "3     4     60\n",
       "4     5     60\n",
       "5     6     55"
      ]
     },
     "execution_count": 9,
     "metadata": {},
     "output_type": "execute_result"
    }
   ],
   "source": [
    "df= pd.concat([df1,df2],axis=1)\n",
    "df.head(6)"
   ]
  },
  {
   "cell_type": "code",
   "execution_count": 23,
   "id": "b6e2c0d3",
   "metadata": {},
   "outputs": [],
   "source": [
    "from sklearn.preprocessing import PolynomialFeatures\n",
    "poly = PolynomialFeatures(degree=3)"
   ]
  },
  {
   "cell_type": "code",
   "execution_count": 24,
   "id": "c2df0a6a",
   "metadata": {},
   "outputs": [],
   "source": [
    "polyx = poly.fit_transform(df[[\"Time\"]])"
   ]
  },
  {
   "cell_type": "code",
   "execution_count": 25,
   "id": "6af6cc97",
   "metadata": {},
   "outputs": [],
   "source": [
    "from sklearn.linear_model import LinearRegression"
   ]
  },
  {
   "cell_type": "code",
   "execution_count": 26,
   "id": "c29e848c",
   "metadata": {},
   "outputs": [],
   "source": [
    "model=LinearRegression()"
   ]
  },
  {
   "cell_type": "code",
   "execution_count": 27,
   "id": "b114b7da",
   "metadata": {},
   "outputs": [
    {
     "data": {
      "text/plain": [
       "LinearRegression()"
      ]
     },
     "execution_count": 27,
     "metadata": {},
     "output_type": "execute_result"
    }
   ],
   "source": [
    "model.fit(polyx,df[['Speed']])"
   ]
  },
  {
   "cell_type": "code",
   "execution_count": 28,
   "id": "62e6eba8",
   "metadata": {},
   "outputs": [
    {
     "data": {
      "text/plain": [
       "array([[  0.        , -21.46529928,   2.2378741 ,  -0.06153251]])"
      ]
     },
     "execution_count": 28,
     "metadata": {},
     "output_type": "execute_result"
    }
   ],
   "source": [
    "coef=model.coef_\n",
    "coef"
   ]
  },
  {
   "cell_type": "code",
   "execution_count": 41,
   "id": "38ba50e3",
   "metadata": {},
   "outputs": [
    {
     "data": {
      "text/plain": [
       "array([101.71104231,  98.98879372,  96.3722489 ,  93.85984934,\n",
       "        91.45003651,  89.14125192,  86.93193705,  84.82053338,\n",
       "        82.80548241,  80.88522562,  79.05820449,  77.32286053,\n",
       "        75.67763521,  74.12097002,  72.65130645,  71.26708599,\n",
       "        69.96675013,  68.74874035,  67.61149814,  66.55346499,\n",
       "        65.57308239,  64.66879182,  63.83903477,  63.08225273,\n",
       "        62.39688719,  61.78137964,  61.23417155,  60.75370443,\n",
       "        60.33841976,  59.98675902,  59.69716371,  59.4680753 ,\n",
       "        59.2979353 ,  59.18518519,  59.12826644,  59.12562056,\n",
       "        59.17568903,  59.27691334,  59.42773498,  59.62659542,\n",
       "        59.87193617,  60.16219871,  60.49582452,  60.8712551 ,\n",
       "        61.28693193,  61.74129649,  62.23279029,  62.7598548 ,\n",
       "        63.32093151,  63.91446192,  64.5388875 ,  65.19264974,\n",
       "        65.87419015,  66.58195019,  67.31437136,  68.06989514,\n",
       "        68.84696304,  69.64401652,  70.45949708,  71.29184621,\n",
       "        72.1395054 ,  73.00091613,  73.87451989,  74.75875817,\n",
       "        75.65207245,  76.55290423,  77.45969499,  78.37088622,\n",
       "        79.2849194 ,  80.20023603,  81.1152776 ,  82.02848558,\n",
       "        82.93830147,  83.84316676,  84.74152293,  85.63181147,\n",
       "        86.51247387,  87.38195161,  88.23868619,  89.08111909,\n",
       "        89.9076918 ,  90.71684581,  91.5070226 ,  92.27666367,\n",
       "        93.0242105 ,  93.74810457,  94.44678738,  95.11870042,\n",
       "        95.76228516,  96.37598311,  96.95823574,  97.50748454,\n",
       "        98.02217101,  98.50073663,  98.94162288,  99.34327126,\n",
       "        99.70412325, 100.02262035, 100.29720403, 100.52631579])"
      ]
     },
     "execution_count": 41,
     "metadata": {},
     "output_type": "execute_result"
    }
   ],
   "source": [
    "y_pred=coef[0][1]*line+coef[0][2]*line**2+coef[0][3]*line**3+intercept\n",
    "y_pred"
   ]
  },
  {
   "cell_type": "code",
   "execution_count": 44,
   "id": "6130738c",
   "metadata": {},
   "outputs": [
    {
     "data": {
      "text/plain": [
       "array([121.])"
      ]
     },
     "execution_count": 44,
     "metadata": {},
     "output_type": "execute_result"
    }
   ],
   "source": [
    "intercept=model.intercept_\n",
    "intercept"
   ]
  },
  {
   "cell_type": "code",
   "execution_count": 45,
   "id": "01c692eb",
   "metadata": {},
   "outputs": [
    {
     "data": {
      "text/plain": [
       "array([ 1.        ,  1.16161616,  1.32323232,  1.48484848,  1.64646465,\n",
       "        1.80808081,  1.96969697,  2.13131313,  2.29292929,  2.45454545,\n",
       "        2.61616162,  2.77777778,  2.93939394,  3.1010101 ,  3.26262626,\n",
       "        3.42424242,  3.58585859,  3.74747475,  3.90909091,  4.07070707,\n",
       "        4.23232323,  4.39393939,  4.55555556,  4.71717172,  4.87878788,\n",
       "        5.04040404,  5.2020202 ,  5.36363636,  5.52525253,  5.68686869,\n",
       "        5.84848485,  6.01010101,  6.17171717,  6.33333333,  6.49494949,\n",
       "        6.65656566,  6.81818182,  6.97979798,  7.14141414,  7.3030303 ,\n",
       "        7.46464646,  7.62626263,  7.78787879,  7.94949495,  8.11111111,\n",
       "        8.27272727,  8.43434343,  8.5959596 ,  8.75757576,  8.91919192,\n",
       "        9.08080808,  9.24242424,  9.4040404 ,  9.56565657,  9.72727273,\n",
       "        9.88888889, 10.05050505, 10.21212121, 10.37373737, 10.53535354,\n",
       "       10.6969697 , 10.85858586, 11.02020202, 11.18181818, 11.34343434,\n",
       "       11.50505051, 11.66666667, 11.82828283, 11.98989899, 12.15151515,\n",
       "       12.31313131, 12.47474747, 12.63636364, 12.7979798 , 12.95959596,\n",
       "       13.12121212, 13.28282828, 13.44444444, 13.60606061, 13.76767677,\n",
       "       13.92929293, 14.09090909, 14.25252525, 14.41414141, 14.57575758,\n",
       "       14.73737374, 14.8989899 , 15.06060606, 15.22222222, 15.38383838,\n",
       "       15.54545455, 15.70707071, 15.86868687, 16.03030303, 16.19191919,\n",
       "       16.35353535, 16.51515152, 16.67676768, 16.83838384, 17.        ])"
      ]
     },
     "execution_count": 45,
     "metadata": {},
     "output_type": "execute_result"
    }
   ],
   "source": [
    "line=np.linspace(1,17,100)\n",
    "line"
   ]
  },
  {
   "cell_type": "code",
   "execution_count": 46,
   "id": "354d15e8",
   "metadata": {},
   "outputs": [
    {
     "data": {
      "text/plain": [
       "array([101.71104231,  98.98879372,  96.3722489 ,  93.85984934,\n",
       "        91.45003651,  89.14125192,  86.93193705,  84.82053338,\n",
       "        82.80548241,  80.88522562,  79.05820449,  77.32286053,\n",
       "        75.67763521,  74.12097002,  72.65130645,  71.26708599,\n",
       "        69.96675013,  68.74874035,  67.61149814,  66.55346499,\n",
       "        65.57308239,  64.66879182,  63.83903477,  63.08225273,\n",
       "        62.39688719,  61.78137964,  61.23417155,  60.75370443,\n",
       "        60.33841976,  59.98675902,  59.69716371,  59.4680753 ,\n",
       "        59.2979353 ,  59.18518519,  59.12826644,  59.12562056,\n",
       "        59.17568903,  59.27691334,  59.42773498,  59.62659542,\n",
       "        59.87193617,  60.16219871,  60.49582452,  60.8712551 ,\n",
       "        61.28693193,  61.74129649,  62.23279029,  62.7598548 ,\n",
       "        63.32093151,  63.91446192,  64.5388875 ,  65.19264974,\n",
       "        65.87419015,  66.58195019,  67.31437136,  68.06989514,\n",
       "        68.84696304,  69.64401652,  70.45949708,  71.29184621,\n",
       "        72.1395054 ,  73.00091613,  73.87451989,  74.75875817,\n",
       "        75.65207245,  76.55290423,  77.45969499,  78.37088622,\n",
       "        79.2849194 ,  80.20023603,  81.1152776 ,  82.02848558,\n",
       "        82.93830147,  83.84316676,  84.74152293,  85.63181147,\n",
       "        86.51247387,  87.38195161,  88.23868619,  89.08111909,\n",
       "        89.9076918 ,  90.71684581,  91.5070226 ,  92.27666367,\n",
       "        93.0242105 ,  93.74810457,  94.44678738,  95.11870042,\n",
       "        95.76228516,  96.37598311,  96.95823574,  97.50748454,\n",
       "        98.02217101,  98.50073663,  98.94162288,  99.34327126,\n",
       "        99.70412325, 100.02262035, 100.29720403, 100.52631579])"
      ]
     },
     "execution_count": 46,
     "metadata": {},
     "output_type": "execute_result"
    }
   ],
   "source": [
    "y_pred"
   ]
  },
  {
   "cell_type": "code",
   "execution_count": 47,
   "id": "dbad13cb",
   "metadata": {},
   "outputs": [
    {
     "data": {
      "image/png": "[encoded data removed]",
      "text/plain": [
       "<Figure size 432x288 with 1 Axes>"
      ]
     },
     "metadata": {
      "needs_background": "light"
     },
     "output_type": "display_data"
    }
   ],
   "source": [
    "plt.scatter(x,y)\n",
    "plt.plot(line,y_pred)\n",
    "plt.show()"
   ]
  },
  {
   "cell_type": "code",
   "execution_count": 48,
   "id": "b413b387",
   "metadata": {},
   "outputs": [
    {
     "data": {
      "text/plain": [
       "0.9385656197786131"
      ]
     },
     "execution_count": 48,
     "metadata": {},
     "output_type": "execute_result"
    }
   ],
   "source": [
    "model.score(polyx,df[['Speed']])"
   ]
  },
  {
   "cell_type": "code",
   "execution_count": 49,
   "id": "3ffebcaf",
   "metadata": {},
   "outputs": [
    {
     "ename": "ValueError",
     "evalue": "Expected 2D array, got 1D array instead:\narray=[ 1.          1.16161616  1.32323232  1.48484848  1.64646465  1.80808081\n  1.96969697  2.13131313  2.29292929  2.45454545  2.61616162  2.77777778\n  2.93939394  3.1010101   3.26262626  3.42424242  3.58585859  3.74747475\n  3.90909091  4.07070707  4.23232323  4.39393939  4.55555556  4.71717172\n  4.87878788  5.04040404  5.2020202   5.36363636  5.52525253  5.68686869\n  5.84848485  6.01010101  6.17171717  6.33333333  6.49494949  6.65656566\n  6.81818182  6.97979798  7.14141414  7.3030303   7.46464646  7.62626263\n  7.78787879  7.94949495  8.11111111  8.27272727  8.43434343  8.5959596\n  8.75757576  8.91919192  9.08080808  9.24242424  9.4040404   9.56565657\n  9.72727273  9.88888889 10.05050505 10.21212121 10.37373737 10.53535354\n 10.6969697  10.85858586 11.02020202 11.18181818 11.34343434 11.50505051\n 11.66666667 11.82828283 11.98989899 12.15151515 12.31313131 12.47474747\n 12.63636364 12.7979798  12.95959596 13.12121212 13.28282828 13.44444444\n 13.60606061 13.76767677 13.92929293 14.09090909 14.25252525 14.41414141\n 14.57575758 14.73737374 14.8989899  15.06060606 15.22222222 15.38383838\n 15.54545455 15.70707071 15.86868687 16.03030303 16.19191919 16.35353535\n 16.51515152 16.67676768 16.83838384 17.        ].\nReshape your data either using array.reshape(-1, 1) if your data has a single feature or array.reshape(1, -1) if it contains a single sample.",
     "output_type": "error",
     "traceback": [
      "\u001b[1;31m---------------------------------------------------------------------------\u001b[0m",
      "\u001b[1;31mValueError\u001b[0m                                Traceback (most recent call last)",
      "Input \u001b[1;32mIn [49]\u001b[0m, in \u001b[0;36m<cell line: 1>\u001b[1;34m()\u001b[0m\n\u001b[1;32m----> 1\u001b[0m \u001b[43mmodel\u001b[49m\u001b[38;5;241;43m.\u001b[39;49m\u001b[43mpredict\u001b[49m\u001b[43m(\u001b[49m\u001b[43mline\u001b[49m\u001b[43m)\u001b[49m\n",
      "File \u001b[1;32m~\\anaconda3\\lib\\site-packages\\sklearn\\linear_model\\_base.py:362\u001b[0m, in \u001b[0;36mLinearModel.predict\u001b[1;34m(self, X)\u001b[0m\n\u001b[0;32m    348\u001b[0m \u001b[38;5;28;01mdef\u001b[39;00m \u001b[38;5;21mpredict\u001b[39m(\u001b[38;5;28mself\u001b[39m, X):\n\u001b[0;32m    349\u001b[0m     \u001b[38;5;124;03m\"\"\"\u001b[39;00m\n\u001b[0;32m    350\u001b[0m \u001b[38;5;124;03m    Predict using the linear model.\u001b[39;00m\n\u001b[0;32m    351\u001b[0m \n\u001b[1;32m   (...)\u001b[0m\n\u001b[0;32m    360\u001b[0m \u001b[38;5;124;03m        Returns predicted values.\u001b[39;00m\n\u001b[0;32m    361\u001b[0m \u001b[38;5;124;03m    \"\"\"\u001b[39;00m\n\u001b[1;32m--> 362\u001b[0m     \u001b[38;5;28;01mreturn\u001b[39;00m \u001b[38;5;28;43mself\u001b[39;49m\u001b[38;5;241;43m.\u001b[39;49m\u001b[43m_decision_function\u001b[49m\u001b[43m(\u001b[49m\u001b[43mX\u001b[49m\u001b[43m)\u001b[49m\n",
      "File \u001b[1;32m~\\anaconda3\\lib\\site-packages\\sklearn\\linear_model\\_base.py:345\u001b[0m, in \u001b[0;36mLinearModel._decision_function\u001b[1;34m(self, X)\u001b[0m\n\u001b[0;32m    342\u001b[0m \u001b[38;5;28;01mdef\u001b[39;00m \u001b[38;5;21m_decision_function\u001b[39m(\u001b[38;5;28mself\u001b[39m, X):\n\u001b[0;32m    343\u001b[0m     check_is_fitted(\u001b[38;5;28mself\u001b[39m)\n\u001b[1;32m--> 345\u001b[0m     X \u001b[38;5;241m=\u001b[39m \u001b[38;5;28;43mself\u001b[39;49m\u001b[38;5;241;43m.\u001b[39;49m\u001b[43m_validate_data\u001b[49m\u001b[43m(\u001b[49m\u001b[43mX\u001b[49m\u001b[43m,\u001b[49m\u001b[43m \u001b[49m\u001b[43maccept_sparse\u001b[49m\u001b[38;5;241;43m=\u001b[39;49m\u001b[43m[\u001b[49m\u001b[38;5;124;43m\"\u001b[39;49m\u001b[38;5;124;43mcsr\u001b[39;49m\u001b[38;5;124;43m\"\u001b[39;49m\u001b[43m,\u001b[49m\u001b[43m \u001b[49m\u001b[38;5;124;43m\"\u001b[39;49m\u001b[38;5;124;43mcsc\u001b[39;49m\u001b[38;5;124;43m\"\u001b[39;49m\u001b[43m,\u001b[49m\u001b[43m \u001b[49m\u001b[38;5;124;43m\"\u001b[39;49m\u001b[38;5;124;43mcoo\u001b[39;49m\u001b[38;5;124;43m\"\u001b[39;49m\u001b[43m]\u001b[49m\u001b[43m,\u001b[49m\u001b[43m \u001b[49m\u001b[43mreset\u001b[49m\u001b[38;5;241;43m=\u001b[39;49m\u001b[38;5;28;43;01mFalse\u001b[39;49;00m\u001b[43m)\u001b[49m\n\u001b[0;32m    346\u001b[0m     \u001b[38;5;28;01mreturn\u001b[39;00m safe_sparse_dot(X, \u001b[38;5;28mself\u001b[39m\u001b[38;5;241m.\u001b[39mcoef_\u001b[38;5;241m.\u001b[39mT, dense_output\u001b[38;5;241m=\u001b[39m\u001b[38;5;28;01mTrue\u001b[39;00m) \u001b[38;5;241m+\u001b[39m \u001b[38;5;28mself\u001b[39m\u001b[38;5;241m.\u001b[39mintercept_\n",
      "File \u001b[1;32m~\\anaconda3\\lib\\site-packages\\sklearn\\base.py:566\u001b[0m, in \u001b[0;36mBaseEstimator._validate_data\u001b[1;34m(self, X, y, reset, validate_separately, **check_params)\u001b[0m\n\u001b[0;32m    564\u001b[0m     \u001b[38;5;28;01mraise\u001b[39;00m \u001b[38;5;167;01mValueError\u001b[39;00m(\u001b[38;5;124m\"\u001b[39m\u001b[38;5;124mValidation should be done on X, y or both.\u001b[39m\u001b[38;5;124m\"\u001b[39m)\n\u001b[0;32m    565\u001b[0m \u001b[38;5;28;01melif\u001b[39;00m \u001b[38;5;129;01mnot\u001b[39;00m no_val_X \u001b[38;5;129;01mand\u001b[39;00m no_val_y:\n\u001b[1;32m--> 566\u001b[0m     X \u001b[38;5;241m=\u001b[39m check_array(X, \u001b[38;5;241m*\u001b[39m\u001b[38;5;241m*\u001b[39mcheck_params)\n\u001b[0;32m    567\u001b[0m     out \u001b[38;5;241m=\u001b[39m X\n\u001b[0;32m    568\u001b[0m \u001b[38;5;28;01melif\u001b[39;00m no_val_X \u001b[38;5;129;01mand\u001b[39;00m \u001b[38;5;129;01mnot\u001b[39;00m no_val_y:\n",
      "File \u001b[1;32m~\\anaconda3\\lib\\site-packages\\sklearn\\utils\\validation.py:769\u001b[0m, in \u001b[0;36mcheck_array\u001b[1;34m(array, accept_sparse, accept_large_sparse, dtype, order, copy, force_all_finite, ensure_2d, allow_nd, ensure_min_samples, ensure_min_features, estimator)\u001b[0m\n\u001b[0;32m    767\u001b[0m     \u001b[38;5;66;03m# If input is 1D raise error\u001b[39;00m\n\u001b[0;32m    768\u001b[0m     \u001b[38;5;28;01mif\u001b[39;00m array\u001b[38;5;241m.\u001b[39mndim \u001b[38;5;241m==\u001b[39m \u001b[38;5;241m1\u001b[39m:\n\u001b[1;32m--> 769\u001b[0m         \u001b[38;5;28;01mraise\u001b[39;00m \u001b[38;5;167;01mValueError\u001b[39;00m(\n\u001b[0;32m    770\u001b[0m             \u001b[38;5;124m\"\u001b[39m\u001b[38;5;124mExpected 2D array, got 1D array instead:\u001b[39m\u001b[38;5;130;01m\\n\u001b[39;00m\u001b[38;5;124marray=\u001b[39m\u001b[38;5;132;01m{}\u001b[39;00m\u001b[38;5;124m.\u001b[39m\u001b[38;5;130;01m\\n\u001b[39;00m\u001b[38;5;124m\"\u001b[39m\n\u001b[0;32m    771\u001b[0m             \u001b[38;5;124m\"\u001b[39m\u001b[38;5;124mReshape your data either using array.reshape(-1, 1) if \u001b[39m\u001b[38;5;124m\"\u001b[39m\n\u001b[0;32m    772\u001b[0m             \u001b[38;5;124m\"\u001b[39m\u001b[38;5;124myour data has a single feature or array.reshape(1, -1) \u001b[39m\u001b[38;5;124m\"\u001b[39m\n\u001b[0;32m    773\u001b[0m             \u001b[38;5;124m\"\u001b[39m\u001b[38;5;124mif it contains a single sample.\u001b[39m\u001b[38;5;124m\"\u001b[39m\u001b[38;5;241m.\u001b[39mformat(array)\n\u001b[0;32m    774\u001b[0m         )\n\u001b[0;32m    776\u001b[0m \u001b[38;5;66;03m# make sure we actually converted to numeric:\u001b[39;00m\n\u001b[0;32m    777\u001b[0m \u001b[38;5;28;01mif\u001b[39;00m dtype_numeric \u001b[38;5;129;01mand\u001b[39;00m array\u001b[38;5;241m.\u001b[39mdtype\u001b[38;5;241m.\u001b[39mkind \u001b[38;5;129;01min\u001b[39;00m \u001b[38;5;124m\"\u001b[39m\u001b[38;5;124mOUSV\u001b[39m\u001b[38;5;124m\"\u001b[39m:\n",
      "\u001b[1;31mValueError\u001b[0m: Expected 2D array, got 1D array instead:\narray=[ 1.          1.16161616  1.32323232  1.48484848  1.64646465  1.80808081\n  1.96969697  2.13131313  2.29292929  2.45454545  2.61616162  2.77777778\n  2.93939394  3.1010101   3.26262626  3.42424242  3.58585859  3.74747475\n  3.90909091  4.07070707  4.23232323  4.39393939  4.55555556  4.71717172\n  4.87878788  5.04040404  5.2020202   5.36363636  5.52525253  5.68686869\n  5.84848485  6.01010101  6.17171717  6.33333333  6.49494949  6.65656566\n  6.81818182  6.97979798  7.14141414  7.3030303   7.46464646  7.62626263\n  7.78787879  7.94949495  8.11111111  8.27272727  8.43434343  8.5959596\n  8.75757576  8.91919192  9.08080808  9.24242424  9.4040404   9.56565657\n  9.72727273  9.88888889 10.05050505 10.21212121 10.37373737 10.53535354\n 10.6969697  10.85858586 11.02020202 11.18181818 11.34343434 11.50505051\n 11.66666667 11.82828283 11.98989899 12.15151515 12.31313131 12.47474747\n 12.63636364 12.7979798  12.95959596 13.12121212 13.28282828 13.44444444\n 13.60606061 13.76767677 13.92929293 14.09090909 14.25252525 14.41414141\n 14.57575758 14.73737374 14.8989899  15.06060606 15.22222222 15.38383838\n 15.54545455 15.70707071 15.86868687 16.03030303 16.19191919 16.35353535\n 16.51515152 16.67676768 16.83838384 17.        ].\nReshape your data either using array.reshape(-1, 1) if your data has a single feature or array.reshape(1, -1) if it contains a single sample."
     ]
    }
   ],
   "source": [
    "model.predict(line)"
   ]
  },
  {
   "cell_type": "code",
   "execution_count": 50,
   "id": "cb3b3206",
   "metadata": {},
   "outputs": [
    {
     "name": "stdout",
     "output_type": "stream",
     "text": [
      "Enter number15\n"
     ]
    }
   ],
   "source": [
    "a=int(input(\"Enter number\"))"
   ]
  },
  {
   "cell_type": "code",
   "execution_count": 52,
   "id": "3532ef8e",
   "metadata": {},
   "outputs": [
    {
     "data": {
      "text/plain": [
       "array([[1.000e+00, 1.500e+01, 2.250e+02, 3.375e+03]])"
      ]
     },
     "execution_count": 52,
     "metadata": {},
     "output_type": "execute_result"
    }
   ],
   "source": [
    "p=poly.fit_transform([[a]])\n",
    "p"
   ]
  },
  {
   "cell_type": "code",
   "execution_count": 54,
   "id": "514ea953",
   "metadata": {},
   "outputs": [
    {
     "data": {
      "text/plain": [
       "poly1d([ 0.57649639, -9.15879773, 99.95588235])"
      ]
     },
     "execution_count": 54,
     "metadata": {},
     "output_type": "execute_result"
    }
   ],
   "source": [
    "model=np.poly1d(np.polyfit(x,y,2))\n",
    "model"
   ]
  },
  {
   "cell_type": "code",
   "execution_count": 55,
   "id": "693326c5",
   "metadata": {},
   "outputs": [
    {
     "data": {
      "text/plain": [
       "array([ 91.37358101,  90.09477151,  88.84607792,  87.62750026,\n",
       "        86.43903852,  85.2806927 ,  84.1524628 ,  83.05434883,\n",
       "        81.98635077,  80.94846864,  79.94070243,  78.96305215,\n",
       "        78.01551778,  77.09809934,  76.21079682,  75.35361022,\n",
       "        74.52653954,  73.72958478,  72.96274595,  72.22602304,\n",
       "        71.51941605,  70.84292498,  70.19654984,  69.58029061,\n",
       "        68.99414731,  68.43811993,  67.91220847,  67.41641293,\n",
       "        66.95073332,  66.51516963,  66.10972186,  65.73439001,\n",
       "        65.38917408,  65.07407407,  64.78908999,  64.53422183,\n",
       "        64.30946959,  64.11483327,  63.95031288,  63.8159084 ,\n",
       "        63.71161985,  63.63744722,  63.59339051,  63.57944973,\n",
       "        63.59562486,  63.64191592,  63.7183229 ,  63.8248458 ,\n",
       "        63.96148463,  64.12823937,  64.32511004,  64.55209663,\n",
       "        64.80919914,  65.09641757,  65.41375193,  65.76120221,\n",
       "        66.13876841,  66.54645053,  66.98424857,  67.45216253,\n",
       "        67.95019242,  68.47833823,  69.03659996,  69.62497761,\n",
       "        70.24347119,  70.89208068,  71.5708061 ,  72.27964744,\n",
       "        73.0186047 ,  73.78767789,  74.58686699,  75.41617202,\n",
       "        76.27559297,  77.16512984,  78.08478263,  79.03455135,\n",
       "        80.01443599,  81.02443655,  82.06455303,  83.13478543,\n",
       "        84.23513375,  85.365598  ,  86.52617817,  87.71687426,\n",
       "        88.93768627,  90.18861421,  91.46965806,  92.78081784,\n",
       "        94.12209354,  95.49348516,  96.89499271,  98.32661617,\n",
       "        99.78835556, 101.28021087, 102.8021821 , 104.35426926,\n",
       "       105.93647233, 107.54879133, 109.19122625, 110.86377709])"
      ]
     },
     "execution_count": 55,
     "metadata": {},
     "output_type": "execute_result"
    }
   ],
   "source": [
    "model(line)"
   ]
  },
  {
   "cell_type": "code",
   "execution_count": null,
   "id": "1185e1d8",
   "metadata": {},
   "outputs": [],
   "source": []
  }
 ],
 "metadata": {
  "kernelspec": {
   "display_name": "Python 3 (ipykernel)",
   "language": "python",
   "name": "python3"
  },
  "language_info": {
   "codemirror_mode": {
    "name": "ipython",
    "version": 3
   },
   "file_extension": ".py",
   "mimetype": "text/x-python",
   "name": "python",
   "nbconvert_exporter": "python",
   "pygments_lexer": "ipython3",
   "version": "3.9.12"
  }
 },
 "nbformat": 4,
 "nbformat_minor": 5
}
