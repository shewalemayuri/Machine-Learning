{
 "cells": [
  {
   "cell_type": "code",
   "execution_count": 51,
   "id": "463eea6b",
   "metadata": {},
   "outputs": [],
   "source": [
    "import pandas as pd\n",
    "import numpy as np\n",
    "import matplotlib.pyplot as plt"
   ]
  },
  {
   "cell_type": "code",
   "execution_count": 52,
   "id": "7c8ed7c6",
   "metadata": {},
   "outputs": [],
   "source": [
    "x = [1,2,3,4,5,6,7,8,9,10,11,12,13,14,15,16,17]\n",
    "y = [100,90,80,60,60,55,60,65,70,70,75,76,78,90,99,99,100]"
   ]
  },
  {
   "cell_type": "code",
   "execution_count": 53,
   "id": "5f9f223e",
   "metadata": {},
   "outputs": [
    {
     "data": {
      "image/png": "[encoded data removed]",
      "text/plain": [
       "<Figure size 432x288 with 1 Axes>"
      ]
     },
     "metadata": {
      "needs_background": "light"
     },
     "output_type": "display_data"
    }
   ],
   "source": [
    "plt.scatter(x,y)\n",
    "plt.show()"
   ]
  },
  {
   "cell_type": "code",
   "execution_count": 54,
   "id": "30c11095",
   "metadata": {},
   "outputs": [],
   "source": [
    "df1 = pd.Series(x,name=\"Time\")\n",
    "df2 = pd.Series(y,name=\"Speed\")"
   ]
  },
  {
   "cell_type": "code",
   "execution_count": 55,
   "id": "28962b44",
   "metadata": {},
   "outputs": [
    {
     "data": {
      "text/html": [
       "<div>\n",
       "<style scoped>\n",
       "    .dataframe tbody tr th:only-of-type {\n",
       "        vertical-align: middle;\n",
       "    }\n",
       "\n",
       "    .dataframe tbody tr th {\n",
       "        vertical-align: top;\n",
       "    }\n",
       "\n",
       "    .dataframe thead th {\n",
       "        text-align: right;\n",
       "    }\n",
       "</style>\n",
       "<table border=\"1\" class=\"dataframe\">\n",
       "  <thead>\n",
       "    <tr style=\"text-align: right;\">\n",
       "      <th></th>\n",
       "      <th>Time</th>\n",
       "      <th>Speed</th>\n",
       "    </tr>\n",
       "  </thead>\n",
       "  <tbody>\n",
       "    <tr>\n",
       "      <th>0</th>\n",
       "      <td>1</td>\n",
       "      <td>100</td>\n",
       "    </tr>\n",
       "    <tr>\n",
       "      <th>1</th>\n",
       "      <td>2</td>\n",
       "      <td>90</td>\n",
       "    </tr>\n",
       "    <tr>\n",
       "      <th>2</th>\n",
       "      <td>3</td>\n",
       "      <td>80</td>\n",
       "    </tr>\n",
       "    <tr>\n",
       "      <th>3</th>\n",
       "      <td>4</td>\n",
       "      <td>60</td>\n",
       "    </tr>\n",
       "    <tr>\n",
       "      <th>4</th>\n",
       "      <td>5</td>\n",
       "      <td>60</td>\n",
       "    </tr>\n",
       "    <tr>\n",
       "      <th>5</th>\n",
       "      <td>6</td>\n",
       "      <td>55</td>\n",
       "    </tr>\n",
       "  </tbody>\n",
       "</table>\n",
       "</div>"
      ],
      "text/plain": [
       "   Time  Speed\n",
       "0     1    100\n",
       "1     2     90\n",
       "2     3     80\n",
       "3     4     60\n",
       "4     5     60\n",
       "5     6     55"
      ]
     },
     "execution_count": 55,
     "metadata": {},
     "output_type": "execute_result"
    }
   ],
   "source": [
    "df= pd.concat([df1,df2],axis=1)\n",
    "df.head(6)"
   ]
  },
  {
   "cell_type": "code",
   "execution_count": 56,
   "id": "b6e2c0d3",
   "metadata": {},
   "outputs": [],
   "source": [
    "from sklearn.preprocessing import PolynomialFeatures\n",
    "poly = PolynomialFeatures(degree=3)"
   ]
  },
  {
   "cell_type": "code",
   "execution_count": 57,
   "id": "c2df0a6a",
   "metadata": {},
   "outputs": [],
   "source": [
    "polyx = poly.fit_transform(df[[\"Time\"]])"
   ]
  },
  {
   "cell_type": "code",
   "execution_count": 58,
   "id": "6af6cc97",
   "metadata": {},
   "outputs": [],
   "source": [
    "from sklearn.linear_model import LinearRegression"
   ]
  },
  {
   "cell_type": "code",
   "execution_count": 59,
   "id": "c29e848c",
   "metadata": {},
   "outputs": [],
   "source": [
    "model=LinearRegression()"
   ]
  },
  {
   "cell_type": "code",
   "execution_count": 60,
   "id": "b114b7da",
   "metadata": {},
   "outputs": [
    {
     "data": {
      "text/plain": [
       "LinearRegression()"
      ]
     },
     "execution_count": 60,
     "metadata": {},
     "output_type": "execute_result"
    }
   ],
   "source": [
    "model.fit(polyx,df[['Speed']])"
   ]
  },
  {
   "cell_type": "code",
   "execution_count": 61,
   "id": "62e6eba8",
   "metadata": {},
   "outputs": [
    {
     "data": {
      "text/plain": [
       "array([[  0.        , -21.46529928,   2.2378741 ,  -0.06153251]])"
      ]
     },
     "execution_count": 61,
     "metadata": {},
     "output_type": "execute_result"
    }
   ],
   "source": [
    "coef=model.coef_\n",
    "coef"
   ]
  },
  {
   "cell_type": "code",
   "execution_count": 62,
   "id": "38ba50e3",
   "metadata": {},
   "outputs": [
    {
     "data": {
      "text/plain": [
       "array([101.71104231,  96.31993972,  91.35383335,  86.7998695 ,\n",
       "        82.64519451,  78.87695469,  75.48229635,  72.44836581,\n",
       "        69.7623094 ,  67.41127342,  65.38240419,  63.66284804,\n",
       "        62.23975127,  61.10026021,  60.23152118,  59.62068049,\n",
       "        59.25488445,  59.12127939,  59.20701163,  59.49922747,\n",
       "        59.98507325,  60.65169526,  61.48623985,  62.47585331,\n",
       "        63.60768196,  64.86887214,  66.24657014,  67.7279223 ,\n",
       "        69.30007492,  70.95017432,  72.66536683,  74.43279875,\n",
       "        76.23961641,  78.07296613,  79.91999421,  81.76784699,\n",
       "        83.60367077,  85.41461187,  87.18781661,  88.91043131,\n",
       "        90.56960229,  92.15247585,  93.64619833,  95.03791603,\n",
       "        96.31477528,  97.46392239,  98.47250368,  99.32766546,\n",
       "       100.01655406, 100.52631579])"
      ]
     },
     "execution_count": 62,
     "metadata": {},
     "output_type": "execute_result"
    }
   ],
   "source": [
    "y_pred=coef[0][1]*line+coef[0][2]*line**2+coef[0][3]*line**3+intercept\n",
    "y_pred"
   ]
  },
  {
   "cell_type": "code",
   "execution_count": 63,
   "id": "6130738c",
   "metadata": {},
   "outputs": [
    {
     "data": {
      "text/plain": [
       "array([121.])"
      ]
     },
     "execution_count": 63,
     "metadata": {},
     "output_type": "execute_result"
    }
   ],
   "source": [
    "intercept=model.intercept_\n",
    "intercept"
   ]
  },
  {
   "cell_type": "code",
   "execution_count": 64,
   "id": "01c692eb",
   "metadata": {},
   "outputs": [
    {
     "data": {
      "text/plain": [
       "array([ 1.        ,  1.32653061,  1.65306122,  1.97959184,  2.30612245,\n",
       "        2.63265306,  2.95918367,  3.28571429,  3.6122449 ,  3.93877551,\n",
       "        4.26530612,  4.59183673,  4.91836735,  5.24489796,  5.57142857,\n",
       "        5.89795918,  6.2244898 ,  6.55102041,  6.87755102,  7.20408163,\n",
       "        7.53061224,  7.85714286,  8.18367347,  8.51020408,  8.83673469,\n",
       "        9.16326531,  9.48979592,  9.81632653, 10.14285714, 10.46938776,\n",
       "       10.79591837, 11.12244898, 11.44897959, 11.7755102 , 12.10204082,\n",
       "       12.42857143, 12.75510204, 13.08163265, 13.40816327, 13.73469388,\n",
       "       14.06122449, 14.3877551 , 14.71428571, 15.04081633, 15.36734694,\n",
       "       15.69387755, 16.02040816, 16.34693878, 16.67346939, 17.        ])"
      ]
     },
     "execution_count": 64,
     "metadata": {},
     "output_type": "execute_result"
    }
   ],
   "source": [
    "line=np.linspace(1,17,50)\n",
    "line"
   ]
  },
  {
   "cell_type": "code",
   "execution_count": 65,
   "id": "354d15e8",
   "metadata": {},
   "outputs": [
    {
     "data": {
      "text/plain": [
       "array([101.71104231,  96.31993972,  91.35383335,  86.7998695 ,\n",
       "        82.64519451,  78.87695469,  75.48229635,  72.44836581,\n",
       "        69.7623094 ,  67.41127342,  65.38240419,  63.66284804,\n",
       "        62.23975127,  61.10026021,  60.23152118,  59.62068049,\n",
       "        59.25488445,  59.12127939,  59.20701163,  59.49922747,\n",
       "        59.98507325,  60.65169526,  61.48623985,  62.47585331,\n",
       "        63.60768196,  64.86887214,  66.24657014,  67.7279223 ,\n",
       "        69.30007492,  70.95017432,  72.66536683,  74.43279875,\n",
       "        76.23961641,  78.07296613,  79.91999421,  81.76784699,\n",
       "        83.60367077,  85.41461187,  87.18781661,  88.91043131,\n",
       "        90.56960229,  92.15247585,  93.64619833,  95.03791603,\n",
       "        96.31477528,  97.46392239,  98.47250368,  99.32766546,\n",
       "       100.01655406, 100.52631579])"
      ]
     },
     "execution_count": 65,
     "metadata": {},
     "output_type": "execute_result"
    }
   ],
   "source": [
    "y_pred"
   ]
  },
  {
   "cell_type": "code",
   "execution_count": 71,
   "id": "dbad13cb",
   "metadata": {},
   "outputs": [
    {
     "data": {
      "image/png": "[encoded data removed]",
      "text/plain": [
       "<Figure size 432x288 with 1 Axes>"
      ]
     },
     "metadata": {
      "needs_background": "light"
     },
     "output_type": "display_data"
    }
   ],
   "source": [
    "plt.scatter(x,y)\n",
    "plt.plot(line,y_pred)\n",
    "plt.show()"
   ]
  },
  {
   "cell_type": "code",
   "execution_count": 72,
   "id": "b413b387",
   "metadata": {},
   "outputs": [
    {
     "data": {
      "text/plain": [
       "0.9385656197786131"
      ]
     },
     "execution_count": 72,
     "metadata": {},
     "output_type": "execute_result"
    }
   ],
   "source": [
    "model.score(polyx,df[['Speed']])"
   ]
  },
  {
   "cell_type": "code",
   "execution_count": 74,
   "id": "3ffebcaf",
   "metadata": {
    "scrolled": true
   },
   "outputs": [
    {
     "data": {
      "text/plain": [
       "array([[86.52863777]])"
      ]
     },
     "execution_count": 74,
     "metadata": {},
     "output_type": "execute_result"
    }
   ],
   "source": [
    "model.predict([[1,2,4,8]])"
   ]
  },
  {
   "cell_type": "code",
   "execution_count": null,
   "id": "39995393",
   "metadata": {},
   "outputs": [],
   "source": []
  },
  {
   "cell_type": "code",
   "execution_count": null,
   "id": "e9db7c0b",
   "metadata": {},
   "outputs": [],
   "source": []
  },
  {
   "cell_type": "code",
   "execution_count": null,
   "id": "e3f62172",
   "metadata": {},
   "outputs": [],
   "source": []
  },
  {
   "cell_type": "code",
   "execution_count": null,
   "id": "53eef9ab",
   "metadata": {},
   "outputs": [],
   "source": []
  },
  {
   "cell_type": "code",
   "execution_count": null,
   "id": "53d2afea",
   "metadata": {},
   "outputs": [],
   "source": []
  },
  {
   "cell_type": "code",
   "execution_count": null,
   "id": "ee79c99f",
   "metadata": {},
   "outputs": [],
   "source": []
  },
  {
   "cell_type": "code",
   "execution_count": null,
   "id": "1f35186f",
   "metadata": {},
   "outputs": [],
   "source": []
  },
  {
   "cell_type": "code",
   "execution_count": null,
   "id": "21a4f42d",
   "metadata": {},
   "outputs": [],
   "source": []
  },
  {
   "cell_type": "code",
   "execution_count": null,
   "id": "64faa38a",
   "metadata": {},
   "outputs": [],
   "source": []
  },
  {
   "cell_type": "code",
   "execution_count": 43,
   "id": "cb3b3206",
   "metadata": {},
   "outputs": [
    {
     "name": "stdout",
     "output_type": "stream",
     "text": [
      "Enter number15\n"
     ]
    }
   ],
   "source": [
    "a=int(input(\"Enter number\"))"
   ]
  },
  {
   "cell_type": "code",
   "execution_count": 44,
   "id": "3532ef8e",
   "metadata": {},
   "outputs": [
    {
     "data": {
      "text/plain": [
       "array([[1.000e+00, 1.500e+01, 2.250e+02, 3.375e+03]])"
      ]
     },
     "execution_count": 44,
     "metadata": {},
     "output_type": "execute_result"
    }
   ],
   "source": [
    "p=poly.fit_transform([[a]])\n",
    "p"
   ]
  },
  {
   "cell_type": "code",
   "execution_count": 45,
   "id": "514ea953",
   "metadata": {},
   "outputs": [
    {
     "data": {
      "text/plain": [
       "poly1d([ 0.57649639, -9.15879773, 99.95588235])"
      ]
     },
     "execution_count": 45,
     "metadata": {},
     "output_type": "execute_result"
    }
   ],
   "source": [
    "model=np.poly1d(np.polyfit(x,y,2))\n",
    "model"
   ]
  },
  {
   "cell_type": "code",
   "execution_count": 46,
   "id": "693326c5",
   "metadata": {},
   "outputs": [
    {
     "data": {
      "text/plain": [
       "array([ 91.37358101,  88.82090796,  86.39116957,  84.08436586,\n",
       "        81.90049683,  79.83956246,  77.90156277,  76.08649776,\n",
       "        74.39436741,  72.82517174,  71.37891075,  70.05558442,\n",
       "        68.85519278,  67.7777358 ,  66.8232135 ,  65.99162587,\n",
       "        65.28297291,  64.69725463,  64.23447102,  63.89462208,\n",
       "        63.67770782,  63.58372823,  63.61268331,  63.76457307,\n",
       "        64.0393975 ,  64.4371566 ,  64.95785038,  65.60147883,\n",
       "        66.36804195,  67.25753975,  68.26997222,  69.40533936,\n",
       "        70.66364118,  72.04487767,  73.54904884,  75.17615467,\n",
       "        76.92619518,  78.79917037,  80.79508022,  82.91392475,\n",
       "        85.15570396,  87.52041783,  90.00806638,  92.61864961,\n",
       "        95.35216751,  98.20862008, 101.18800732, 104.29032924,\n",
       "       107.51558583, 110.86377709])"
      ]
     },
     "execution_count": 46,
     "metadata": {},
     "output_type": "execute_result"
    }
   ],
   "source": [
    "model(line)"
   ]
  },
  {
   "cell_type": "code",
   "execution_count": null,
   "id": "1185e1d8",
   "metadata": {},
   "outputs": [],
   "source": []
  },
  {
   "cell_type": "code",
   "execution_count": null,
   "id": "26774130",
   "metadata": {},
   "outputs": [],
   "source": []
  },
  {
   "cell_type": "code",
   "execution_count": null,
   "id": "702707e0",
   "metadata": {},
   "outputs": [],
   "source": []
  }
 ],
 "metadata": {
  "kernelspec": {
   "display_name": "Python 3 (ipykernel)",
   "language": "python",
   "name": "python3"
  },
  "language_info": {
   "codemirror_mode": {
    "name": "ipython",
    "version": 3
   },
   "file_extension": ".py",
   "mimetype": "text/x-python",
   "name": "python",
   "nbconvert_exporter": "python",
   "pygments_lexer": "ipython3",
   "version": "3.9.12"
  }
 },
 "nbformat": 4,
 "nbformat_minor": 5
}
