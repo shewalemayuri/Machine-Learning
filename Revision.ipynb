{
 "cells": [
  {
   "cell_type": "code",
   "execution_count": 2,
   "id": "c5a32a89",
   "metadata": {},
   "outputs": [],
   "source": [
    "import pandas as pd\n",
    "import numpy as np"
   ]
  },
  {
   "cell_type": "code",
   "execution_count": 11,
   "id": "7612dbbb",
   "metadata": {},
   "outputs": [
    {
     "data": {
      "text/html": [
       "<div>\n",
       "<style scoped>\n",
       "    .dataframe tbody tr th:only-of-type {\n",
       "        vertical-align: middle;\n",
       "    }\n",
       "\n",
       "    .dataframe tbody tr th {\n",
       "        vertical-align: top;\n",
       "    }\n",
       "\n",
       "    .dataframe thead th {\n",
       "        text-align: right;\n",
       "    }\n",
       "</style>\n",
       "<table border=\"1\" class=\"dataframe\">\n",
       "  <thead>\n",
       "    <tr style=\"text-align: right;\">\n",
       "      <th></th>\n",
       "      <th>Car_Name</th>\n",
       "      <th>Year</th>\n",
       "      <th>Selling_Price</th>\n",
       "      <th>Present_Price</th>\n",
       "      <th>Kms_Driven</th>\n",
       "      <th>Fuel_Type</th>\n",
       "      <th>Seller_Type</th>\n",
       "      <th>Transmission</th>\n",
       "      <th>Owner</th>\n",
       "    </tr>\n",
       "  </thead>\n",
       "  <tbody>\n",
       "    <tr>\n",
       "      <th>0</th>\n",
       "      <td>ritz</td>\n",
       "      <td>2014</td>\n",
       "      <td>3.35</td>\n",
       "      <td>5.59</td>\n",
       "      <td>27000</td>\n",
       "      <td>Petrol</td>\n",
       "      <td>Dealer</td>\n",
       "      <td>Manual</td>\n",
       "      <td>0</td>\n",
       "    </tr>\n",
       "    <tr>\n",
       "      <th>1</th>\n",
       "      <td>sx4</td>\n",
       "      <td>2013</td>\n",
       "      <td>4.75</td>\n",
       "      <td>9.54</td>\n",
       "      <td>43000</td>\n",
       "      <td>Diesel</td>\n",
       "      <td>Dealer</td>\n",
       "      <td>Manual</td>\n",
       "      <td>0</td>\n",
       "    </tr>\n",
       "    <tr>\n",
       "      <th>2</th>\n",
       "      <td>ciaz</td>\n",
       "      <td>2017</td>\n",
       "      <td>7.25</td>\n",
       "      <td>9.85</td>\n",
       "      <td>6900</td>\n",
       "      <td>Petrol</td>\n",
       "      <td>Dealer</td>\n",
       "      <td>Manual</td>\n",
       "      <td>0</td>\n",
       "    </tr>\n",
       "    <tr>\n",
       "      <th>3</th>\n",
       "      <td>wagon r</td>\n",
       "      <td>2011</td>\n",
       "      <td>2.85</td>\n",
       "      <td>4.15</td>\n",
       "      <td>5200</td>\n",
       "      <td>Petrol</td>\n",
       "      <td>Dealer</td>\n",
       "      <td>Manual</td>\n",
       "      <td>0</td>\n",
       "    </tr>\n",
       "    <tr>\n",
       "      <th>4</th>\n",
       "      <td>swift</td>\n",
       "      <td>2014</td>\n",
       "      <td>4.60</td>\n",
       "      <td>6.87</td>\n",
       "      <td>42450</td>\n",
       "      <td>Diesel</td>\n",
       "      <td>Dealer</td>\n",
       "      <td>Manual</td>\n",
       "      <td>0</td>\n",
       "    </tr>\n",
       "  </tbody>\n",
       "</table>\n",
       "</div>"
      ],
      "text/plain": [
       "  Car_Name  Year  Selling_Price  Present_Price  Kms_Driven Fuel_Type  \\\n",
       "0     ritz  2014           3.35           5.59       27000    Petrol   \n",
       "1      sx4  2013           4.75           9.54       43000    Diesel   \n",
       "2     ciaz  2017           7.25           9.85        6900    Petrol   \n",
       "3  wagon r  2011           2.85           4.15        5200    Petrol   \n",
       "4    swift  2014           4.60           6.87       42450    Diesel   \n",
       "\n",
       "  Seller_Type Transmission  Owner  \n",
       "0      Dealer       Manual      0  \n",
       "1      Dealer       Manual      0  \n",
       "2      Dealer       Manual      0  \n",
       "3      Dealer       Manual      0  \n",
       "4      Dealer       Manual      0  "
      ]
     },
     "execution_count": 11,
     "metadata": {},
     "output_type": "execute_result"
    }
   ],
   "source": [
    "df=pd.read_csv(\"D:\\Data Science\\car data.csv\")\n",
    "df.head()"
   ]
  },
  {
   "cell_type": "code",
   "execution_count": 6,
   "id": "d9c88aa3",
   "metadata": {},
   "outputs": [],
   "source": [
    "from sklearn.preprocessing import LabelEncoder"
   ]
  },
  {
   "cell_type": "code",
   "execution_count": 7,
   "id": "9a0a16e7",
   "metadata": {},
   "outputs": [],
   "source": [
    "encoder=LabelEncoder()"
   ]
  },
  {
   "cell_type": "code",
   "execution_count": 17,
   "id": "3d185602",
   "metadata": {},
   "outputs": [],
   "source": [
    "new=encoder.fit_transform(df['Fuel_Type'])\n",
    "new1=encoder.fit_transform(df['Seller_Type'])\n",
    "new2=encoder.fit_transform(df['Transmission'])"
   ]
  },
  {
   "cell_type": "code",
   "execution_count": 24,
   "id": "c6414d8f",
   "metadata": {},
   "outputs": [
    {
     "data": {
      "text/html": [
       "<div>\n",
       "<style scoped>\n",
       "    .dataframe tbody tr th:only-of-type {\n",
       "        vertical-align: middle;\n",
       "    }\n",
       "\n",
       "    .dataframe tbody tr th {\n",
       "        vertical-align: top;\n",
       "    }\n",
       "\n",
       "    .dataframe thead th {\n",
       "        text-align: right;\n",
       "    }\n",
       "</style>\n",
       "<table border=\"1\" class=\"dataframe\">\n",
       "  <thead>\n",
       "    <tr style=\"text-align: right;\">\n",
       "      <th></th>\n",
       "      <th>Car_Name</th>\n",
       "      <th>Year</th>\n",
       "      <th>Selling_Price</th>\n",
       "      <th>Present_Price</th>\n",
       "      <th>Kms_Driven</th>\n",
       "      <th>Fuel_Type</th>\n",
       "      <th>Seller_Type</th>\n",
       "      <th>Transmission</th>\n",
       "      <th>Owner</th>\n",
       "    </tr>\n",
       "  </thead>\n",
       "  <tbody>\n",
       "    <tr>\n",
       "      <th>76</th>\n",
       "      <td>corolla altis</td>\n",
       "      <td>2013</td>\n",
       "      <td>5.50</td>\n",
       "      <td>14.68</td>\n",
       "      <td>72000</td>\n",
       "      <td>2</td>\n",
       "      <td>0</td>\n",
       "      <td>1</td>\n",
       "      <td>0</td>\n",
       "    </tr>\n",
       "    <tr>\n",
       "      <th>57</th>\n",
       "      <td>corolla altis</td>\n",
       "      <td>2010</td>\n",
       "      <td>4.75</td>\n",
       "      <td>18.54</td>\n",
       "      <td>50000</td>\n",
       "      <td>2</td>\n",
       "      <td>0</td>\n",
       "      <td>1</td>\n",
       "      <td>0</td>\n",
       "    </tr>\n",
       "    <tr>\n",
       "      <th>236</th>\n",
       "      <td>eon</td>\n",
       "      <td>2016</td>\n",
       "      <td>3.10</td>\n",
       "      <td>4.43</td>\n",
       "      <td>11849</td>\n",
       "      <td>2</td>\n",
       "      <td>0</td>\n",
       "      <td>1</td>\n",
       "      <td>0</td>\n",
       "    </tr>\n",
       "    <tr>\n",
       "      <th>18</th>\n",
       "      <td>wagon r</td>\n",
       "      <td>2015</td>\n",
       "      <td>3.25</td>\n",
       "      <td>5.09</td>\n",
       "      <td>35500</td>\n",
       "      <td>0</td>\n",
       "      <td>0</td>\n",
       "      <td>1</td>\n",
       "      <td>0</td>\n",
       "    </tr>\n",
       "    <tr>\n",
       "      <th>227</th>\n",
       "      <td>i10</td>\n",
       "      <td>2011</td>\n",
       "      <td>2.55</td>\n",
       "      <td>4.43</td>\n",
       "      <td>57000</td>\n",
       "      <td>2</td>\n",
       "      <td>0</td>\n",
       "      <td>1</td>\n",
       "      <td>0</td>\n",
       "    </tr>\n",
       "    <tr>\n",
       "      <th>279</th>\n",
       "      <td>city</td>\n",
       "      <td>2014</td>\n",
       "      <td>6.25</td>\n",
       "      <td>13.60</td>\n",
       "      <td>40126</td>\n",
       "      <td>2</td>\n",
       "      <td>0</td>\n",
       "      <td>1</td>\n",
       "      <td>0</td>\n",
       "    </tr>\n",
       "    <tr>\n",
       "      <th>193</th>\n",
       "      <td>Hero  Ignitor Disc</td>\n",
       "      <td>2013</td>\n",
       "      <td>0.20</td>\n",
       "      <td>0.65</td>\n",
       "      <td>24000</td>\n",
       "      <td>2</td>\n",
       "      <td>1</td>\n",
       "      <td>1</td>\n",
       "      <td>1</td>\n",
       "    </tr>\n",
       "    <tr>\n",
       "      <th>169</th>\n",
       "      <td>Hero Splender iSmart</td>\n",
       "      <td>2015</td>\n",
       "      <td>0.40</td>\n",
       "      <td>0.54</td>\n",
       "      <td>14000</td>\n",
       "      <td>2</td>\n",
       "      <td>1</td>\n",
       "      <td>1</td>\n",
       "      <td>0</td>\n",
       "    </tr>\n",
       "    <tr>\n",
       "      <th>294</th>\n",
       "      <td>amaze</td>\n",
       "      <td>2014</td>\n",
       "      <td>3.75</td>\n",
       "      <td>6.80</td>\n",
       "      <td>33019</td>\n",
       "      <td>2</td>\n",
       "      <td>0</td>\n",
       "      <td>1</td>\n",
       "      <td>0</td>\n",
       "    </tr>\n",
       "    <tr>\n",
       "      <th>142</th>\n",
       "      <td>Yamaha FZ  v 2.0</td>\n",
       "      <td>2015</td>\n",
       "      <td>0.60</td>\n",
       "      <td>0.84</td>\n",
       "      <td>29000</td>\n",
       "      <td>2</td>\n",
       "      <td>1</td>\n",
       "      <td>1</td>\n",
       "      <td>0</td>\n",
       "    </tr>\n",
       "  </tbody>\n",
       "</table>\n",
       "</div>"
      ],
      "text/plain": [
       "                 Car_Name  Year  Selling_Price  Present_Price  Kms_Driven  \\\n",
       "76          corolla altis  2013           5.50          14.68       72000   \n",
       "57          corolla altis  2010           4.75          18.54       50000   \n",
       "236                   eon  2016           3.10           4.43       11849   \n",
       "18                wagon r  2015           3.25           5.09       35500   \n",
       "227                   i10  2011           2.55           4.43       57000   \n",
       "279                  city  2014           6.25          13.60       40126   \n",
       "193    Hero  Ignitor Disc  2013           0.20           0.65       24000   \n",
       "169  Hero Splender iSmart  2015           0.40           0.54       14000   \n",
       "294                 amaze  2014           3.75           6.80       33019   \n",
       "142      Yamaha FZ  v 2.0  2015           0.60           0.84       29000   \n",
       "\n",
       "     Fuel_Type  Seller_Type  Transmission  Owner  \n",
       "76           2            0             1      0  \n",
       "57           2            0             1      0  \n",
       "236          2            0             1      0  \n",
       "18           0            0             1      0  \n",
       "227          2            0             1      0  \n",
       "279          2            0             1      0  \n",
       "193          2            1             1      1  \n",
       "169          2            1             1      0  \n",
       "294          2            0             1      0  \n",
       "142          2            1             1      0  "
      ]
     },
     "execution_count": 24,
     "metadata": {},
     "output_type": "execute_result"
    }
   ],
   "source": [
    "df['Fuel_Type']=new\n",
    "df['Seller_Type']=new1\n",
    "df['Transmission']=new2\n",
    "df.sample(10)"
   ]
  },
  {
   "cell_type": "code",
   "execution_count": 27,
   "id": "44f484b6",
   "metadata": {},
   "outputs": [],
   "source": [
    "from sklearn.preprocessing import MinMaxScaler\n",
    "Scaler=MinMaxScaler()"
   ]
  },
  {
   "cell_type": "code",
   "execution_count": 28,
   "id": "65fa125b",
   "metadata": {},
   "outputs": [],
   "source": [
    "X=df[['Year','Selling_Price','Kms_Driven','Fuel_Type','Seller_Type','Transmission','Owner']]\n",
    "y=df[['Present_Price']]"
   ]
  },
  {
   "cell_type": "code",
   "execution_count": 29,
   "id": "71090689",
   "metadata": {},
   "outputs": [
    {
     "data": {
      "text/plain": [
       "array([[0.73333333, 0.09312321, 0.05305305, ..., 0.        , 1.        ,\n",
       "        0.        ],\n",
       "       [0.66666667, 0.13323782, 0.08508509, ..., 0.        , 1.        ,\n",
       "        0.        ],\n",
       "       [0.93333333, 0.20487106, 0.01281281, ..., 0.        , 1.        ,\n",
       "        0.        ],\n",
       "       ...,\n",
       "       [0.4       , 0.09312321, 0.17504304, ..., 0.        , 1.        ,\n",
       "        0.        ],\n",
       "       [0.93333333, 0.32664756, 0.01701702, ..., 0.        , 1.        ,\n",
       "        0.        ],\n",
       "       [0.86666667, 0.14899713, 0.00993794, ..., 0.        , 1.        ,\n",
       "        0.        ]])"
      ]
     },
     "execution_count": 29,
     "metadata": {},
     "output_type": "execute_result"
    }
   ],
   "source": [
    "scaledX=Scaler.fit_transform(X)\n",
    "scaledX"
   ]
  },
  {
   "cell_type": "code",
   "execution_count": null,
   "id": "23e07e3d",
   "metadata": {},
   "outputs": [],
   "source": []
  },
  {
   "cell_type": "code",
   "execution_count": null,
   "id": "66f57e50",
   "metadata": {},
   "outputs": [],
   "source": []
  },
  {
   "cell_type": "markdown",
   "id": "96f4f1fd",
   "metadata": {},
   "source": [
    "# With Formulaaa"
   ]
  },
  {
   "cell_type": "code",
   "execution_count": 32,
   "id": "fdf37da0",
   "metadata": {},
   "outputs": [],
   "source": [
    "X1=df['Selling_Price'][1]\n",
    "min=df['Selling_Price'].min()\n",
    "max=df['Selling_Price'].max()"
   ]
  },
  {
   "cell_type": "code",
   "execution_count": 34,
   "id": "19a1c9b0",
   "metadata": {},
   "outputs": [
    {
     "data": {
      "text/plain": [
       "0.1332378223495702"
      ]
     },
     "execution_count": 34,
     "metadata": {},
     "output_type": "execute_result"
    }
   ],
   "source": [
    "new_X1=(X1-min)/(max-min)\n",
    "new_X1"
   ]
  },
  {
   "cell_type": "code",
   "execution_count": null,
   "id": "ceaa040f",
   "metadata": {},
   "outputs": [],
   "source": []
  },
  {
   "cell_type": "code",
   "execution_count": null,
   "id": "6c5f54cb",
   "metadata": {},
   "outputs": [],
   "source": []
  },
  {
   "cell_type": "code",
   "execution_count": null,
   "id": "90ac9687",
   "metadata": {},
   "outputs": [],
   "source": []
  },
  {
   "cell_type": "code",
   "execution_count": 36,
   "id": "7dc42564",
   "metadata": {},
   "outputs": [],
   "source": [
    "from sklearn.linear_model import LinearRegression"
   ]
  },
  {
   "cell_type": "code",
   "execution_count": 37,
   "id": "949991b6",
   "metadata": {},
   "outputs": [],
   "source": [
    "model=LinearRegression()"
   ]
  },
  {
   "cell_type": "code",
   "execution_count": 38,
   "id": "7ce7e32a",
   "metadata": {},
   "outputs": [
    {
     "data": {
      "text/plain": [
       "LinearRegression()"
      ]
     },
     "execution_count": 38,
     "metadata": {},
     "output_type": "execute_result"
    }
   ],
   "source": [
    "model.fit(scaledX,y)"
   ]
  },
  {
   "cell_type": "code",
   "execution_count": 39,
   "id": "2187ef42",
   "metadata": {},
   "outputs": [
    {
     "data": {
      "text/plain": [
       "0.8465576703757008"
      ]
     },
     "execution_count": 39,
     "metadata": {},
     "output_type": "execute_result"
    }
   ],
   "source": [
    "model.score(scaledX,y)"
   ]
  },
  {
   "cell_type": "code",
   "execution_count": 41,
   "id": "4cc3d9c0",
   "metadata": {},
   "outputs": [],
   "source": [
    "y_pred=model.predict(scaledX)"
   ]
  },
  {
   "cell_type": "code",
   "execution_count": null,
   "id": "8ddd8bf3",
   "metadata": {},
   "outputs": [],
   "source": []
  },
  {
   "cell_type": "code",
   "execution_count": 42,
   "id": "c7a77ad9",
   "metadata": {},
   "outputs": [],
   "source": [
    "from sklearn.preprocessing import StandardScaler"
   ]
  },
  {
   "cell_type": "code",
   "execution_count": 43,
   "id": "ae6e2672",
   "metadata": {},
   "outputs": [],
   "source": [
    "st=StandardScaler()"
   ]
  },
  {
   "cell_type": "code",
   "execution_count": 44,
   "id": "8f75d949",
   "metadata": {},
   "outputs": [
    {
     "data": {
      "text/plain": [
       "array([[ 0.128897  , -0.25841591, -0.25622446, ..., -0.73728539,\n",
       "         0.39148015, -0.17450057],\n",
       "       [-0.21751369,  0.01748088,  0.1559105 , ..., -0.73728539,\n",
       "         0.39148015, -0.17450057],\n",
       "       [ 1.16812909,  0.51015372, -0.77396901, ..., -0.73728539,\n",
       "         0.39148015, -0.17450057],\n",
       "       ...,\n",
       "       [-1.60315648, -0.25841591,  1.31334003, ..., -0.73728539,\n",
       "         0.39148015, -0.17450057],\n",
       "       [ 1.16812909,  1.34769755, -0.7198763 , ..., -0.73728539,\n",
       "         0.39148015, -0.17450057],\n",
       "       [ 0.8217184 ,  0.12586891, -0.81095812, ..., -0.73728539,\n",
       "         0.39148015, -0.17450057]])"
      ]
     },
     "execution_count": 44,
     "metadata": {},
     "output_type": "execute_result"
    }
   ],
   "source": [
    "stX=st.fit_transform(X)\n",
    "stX"
   ]
  },
  {
   "cell_type": "code",
   "execution_count": 49,
   "id": "af6032ff",
   "metadata": {},
   "outputs": [
    {
     "data": {
      "text/plain": [
       "4.661295681063127"
      ]
     },
     "execution_count": 49,
     "metadata": {},
     "output_type": "execute_result"
    }
   ],
   "source": [
    "mean=df['Selling_Price'].mean()\n",
    "mean"
   ]
  },
  {
   "cell_type": "code",
   "execution_count": 51,
   "id": "5a7048e7",
   "metadata": {},
   "outputs": [
    {
     "data": {
      "text/plain": [
       "5.082811556177804"
      ]
     },
     "execution_count": 51,
     "metadata": {},
     "output_type": "execute_result"
    }
   ],
   "source": [
    "std=df['Selling_Price'].std()\n",
    "std"
   ]
  },
  {
   "cell_type": "code",
   "execution_count": 53,
   "id": "84bb3c4b",
   "metadata": {},
   "outputs": [
    {
     "data": {
      "text/plain": [
       "4.75"
      ]
     },
     "execution_count": 53,
     "metadata": {},
     "output_type": "execute_result"
    }
   ],
   "source": [
    "X1=df['Selling_Price'][1]\n",
    "X1"
   ]
  },
  {
   "cell_type": "code",
   "execution_count": 54,
   "id": "c29563ba",
   "metadata": {},
   "outputs": [
    {
     "data": {
      "text/plain": [
       "0.017451821291517157"
      ]
     },
     "execution_count": 54,
     "metadata": {},
     "output_type": "execute_result"
    }
   ],
   "source": [
    "stX=(X1-mean)/std\n",
    "stX"
   ]
  },
  {
   "cell_type": "code",
   "execution_count": null,
   "id": "f9e9cd36",
   "metadata": {},
   "outputs": [],
   "source": []
  }
 ],
 "metadata": {
  "kernelspec": {
   "display_name": "Python 3 (ipykernel)",
   "language": "python",
   "name": "python3"
  },
  "language_info": {
   "codemirror_mode": {
    "name": "ipython",
    "version": 3
   },
   "file_extension": ".py",
   "mimetype": "text/x-python",
   "name": "python",
   "nbconvert_exporter": "python",
   "pygments_lexer": "ipython3",
   "version": "3.9.12"
  }
 },
 "nbformat": 4,
 "nbformat_minor": 5
}
